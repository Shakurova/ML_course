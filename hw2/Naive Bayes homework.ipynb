{
 "cells": [
  {
   "cell_type": "code",
   "execution_count": 1,
   "metadata": {
    "collapsed": true
   },
   "outputs": [],
   "source": [
    "# -*- coding:utf-8 -*-"
   ]
  },
  {
   "cell_type": "code",
   "execution_count": 2,
   "metadata": {
    "collapsed": false
   },
   "outputs": [
    {
     "name": "stderr",
     "output_type": "stream",
     "text": [
      "/usr/local/lib/python3.5/site-packages/sklearn/cross_validation.py:44: DeprecationWarning: This module was deprecated in version 0.18 in favor of the model_selection module into which all the refactored classes and functions are moved. Also note that the interface of the new CV iterators are different from that of this module. This module will be removed in 0.20.\n",
      "  \"This module will be removed in 0.20.\", DeprecationWarning)\n",
      "/usr/local/lib/python3.5/site-packages/sklearn/grid_search.py:43: DeprecationWarning: This module was deprecated in version 0.18 in favor of the model_selection module into which all the refactored classes and functions are moved. This module will be removed in 0.20.\n",
      "  DeprecationWarning)\n"
     ]
    }
   ],
   "source": [
    "import pandas\n",
    "import numpy as np\n",
    "import matplotlib.pyplot as plt\n",
    "from nltk import word_tokenize\n",
    "from nltk.tokenize import wordpunct_tokenize\n",
    "from nltk.corpus import stopwords\n",
    "\n",
    "from sklearn.grid_search import GridSearchCV\n",
    "from sklearn.feature_extraction.text import CountVectorizer, TfidfTransformer\n",
    "from sklearn.naive_bayes import MultinomialNB\n",
    "from sklearn.ensemble import RandomForestClassifier\n",
    "from sklearn.tree import DecisionTreeClassifier\n",
    "from sklearn.metrics import classification_report, f1_score, accuracy_score, confusion_matrix\n",
    "from sklearn.pipeline import Pipeline\n",
    "from sklearn.model_selection import StratifiedKFold, cross_val_score, train_test_split\n",
    "from sklearn.dummy import DummyClassifier\n",
    "from sklearn.metrics import fbeta_score, make_scorer\n",
    "from sklearn import cross_validation\n",
    "from sklearn.base import TransformerMixin\n",
    "\n",
    "from sklearn.model_selection import learning_curve\n",
    "from sklearn.metrics import roc_curve, auc"
   ]
  },
  {
   "cell_type": "code",
   "execution_count": 3,
   "metadata": {
    "collapsed": true
   },
   "outputs": [],
   "source": [
    "stop_words = stopwords.words('english')"
   ]
  },
  {
   "cell_type": "code",
   "execution_count": 4,
   "metadata": {
    "collapsed": true
   },
   "outputs": [],
   "source": [
    "def tokenize(text):\n",
    "    \"\"\" Токенизация, знаки препинания удаляются \"\"\"\n",
    "    text = text.lower()\n",
    "    return word_tokenize(text)\n",
    "\n",
    "\n",
    "def tokenize2(text):\n",
    "    \"\"\" Токенизация, знаки препинания оставляются \"\"\"\n",
    "    text = text.lower()\n",
    "    return wordpunct_tokenize(text)"
   ]
  },
  {
   "cell_type": "code",
   "execution_count": 5,
   "metadata": {
    "collapsed": true
   },
   "outputs": [],
   "source": [
    "def train_model_show_results(steps):\n",
    "    \"\"\" \"\"\"\n",
    "    print('\\nModel train')\n",
    "    pipeline = Pipeline(steps=steps)\n",
    "\n",
    "    cv_results = cross_val_score(pipeline,\n",
    "                                 msg_train,\n",
    "                                 label_train,\n",
    "                                 cv=10,\n",
    "                                 scoring='accuracy',\n",
    "                                 )\n",
    "    print(cv_results.mean(), cv_results.std())\n",
    "\n",
    "    pipeline.fit(msg_train, label_train)\n",
    "    label_predicted = pipeline.predict(msg_test)\n",
    "    print(label_predicted)\n",
    "\n",
    "    print(classification_report(label_test, label_predicted ))\n",
    "\n",
    "    return pipeline, label_predicted\n"
   ]
  },
  {
   "cell_type": "code",
   "execution_count": 29,
   "metadata": {
    "collapsed": true
   },
   "outputs": [],
   "source": [
    "def draw_learning_curve(pipeline):\n",
    "    print('Draw learning curve')\n",
    "    train_sizes, train_scores, valid_scores = learning_curve(pipeline, \n",
    "                                                             msg_train, \n",
    "                                                             label_train,\n",
    "                                                             train_sizes=[50, 80, 110], \n",
    "                                                             cv=5)\n",
    "    train_scores_mean = np.mean(train_scores, axis=1)\n",
    "    train_scores_std = np.std(train_scores, axis=1)\n",
    "    test_scores_mean = np.mean(valid_scores, axis=1)\n",
    "    test_scores_std = np.std(valid_scores, axis=1)\n",
    "\n",
    "    plt.grid()\n",
    "    plt.xlabel(\"Training examples\")\n",
    "    plt.ylabel(\"Score\")\n",
    "    plt.fill_between(train_sizes, train_scores_mean - train_scores_std,\n",
    "                     train_scores_mean + train_scores_std, alpha=0.1,\n",
    "                     color=\"r\")\n",
    "    plt.fill_between(train_sizes, test_scores_mean - test_scores_std,\n",
    "                     test_scores_mean + test_scores_std, alpha=0.1, color=\"g\")\n",
    "    plt.plot(train_sizes, train_scores_mean, 'o-', color=\"r\",\n",
    "             label=\"Training score\")\n",
    "    plt.plot(train_sizes, test_scores_mean, 'o-', color=\"g\",\n",
    "             label=\"Cross-validation score\")\n",
    "\n",
    "    plt.legend(loc=\"best\")\n",
    "    plt.show()"
   ]
  },
  {
   "cell_type": "code",
   "execution_count": 6,
   "metadata": {
    "collapsed": true
   },
   "outputs": [],
   "source": [
    "def draw_roc_curve(label_predicted):\n",
    "    print('Draw roc curve')\n",
    "    false_positive_rate, true_positive_rate, thresholds = roc_curve(label_test, label_predicted)\n",
    "    roc_auc = auc(false_positive_rate, true_positive_rate)\n",
    "    plt.title('Receiver Operating Characteristic')\n",
    "    plt.plot(false_positive_rate, true_positive_rate, 'b',\n",
    "             label='AUC = %0.2f' % roc_auc)\n",
    "    plt.legend(loc='lower right')\n",
    "    plt.plot([0, 1], [0, 1], 'r--')\n",
    "    plt.xlim([-0.1, 1.2])\n",
    "    plt.ylim([-0.1, 1.2])\n",
    "    plt.ylabel('True Positive Rate')\n",
    "    plt.xlabel('False Positive Rate')\n",
    "    plt.show()"
   ]
  },
  {
   "cell_type": "code",
   "execution_count": 7,
   "metadata": {
    "collapsed": true
   },
   "outputs": [],
   "source": [
    "def length(text):\n",
    "    \"\"\"Длина текста.\"\"\"\n",
    "    return len(text)\n",
    "\n",
    "\n",
    "def uppercase(text):\n",
    "    \"\"\"Сколько заглавных букв.\"\"\"\n",
    "    return len([letter for letter in list(text) if letter.isupper()])\n",
    "\n",
    "\n",
    "def exclamation(text):\n",
    "    \"\"\"Сколько !.\"\"\"\n",
    "    return len([letter for letter in list(text) if letter == '!'])\n",
    "\n",
    "\n",
    "def numbers(text):\n",
    "    \"\"\"Сколько чисел.\"\"\"\n",
    "    return len([letter for letter in list(text) if letter.isdigit()])\n",
    "\n",
    "\n",
    "def warning_words(text):\n",
    "    \"\"\"Сколько слов, типичных для спам-сообщений.\"\"\"\n",
    "    return len([word for word in tokenize(text) if word in spam_words])\n",
    "\n",
    "\n",
    "class FunctionFeaturizer(TransformerMixin):\n",
    "    \"\"\" Для создания своего вектора я использовала несколько фич: длину текста, количество заглавных букв\n",
    "     (чем больше, тем обычно выше вероятность, что это спам), количество ! (в спам-сообщениях встречаются часто),\n",
    "     количество чисел, сколько слов из словаря спам-слов (50 самых частых слов в коллекции спам-сообщений)\"\"\"\n",
    "    def __init__(self, *featurizers):\n",
    "        self.featurizers = featurizers\n",
    "\n",
    "    def fit(self, X, y=None):\n",
    "        return self\n",
    "\n",
    "    def transform(self, X):\n",
    "        fvs = []\n",
    "        for datum in X:\n",
    "            fv = [f(datum) for f in self.featurizers]\n",
    "            fvs.append(fv)\n",
    "        return np.array(fvs)\n"
   ]
  },
  {
   "cell_type": "code",
   "execution_count": 41,
   "metadata": {
    "collapsed": false
   },
   "outputs": [
    {
     "data": {
      "text/html": [
       "<div>\n",
       "<table border=\"1\" class=\"dataframe\">\n",
       "  <thead>\n",
       "    <tr style=\"text-align: right;\">\n",
       "      <th></th>\n",
       "      <th>label</th>\n",
       "      <th>message</th>\n",
       "    </tr>\n",
       "  </thead>\n",
       "  <tbody>\n",
       "    <tr>\n",
       "      <th>0</th>\n",
       "      <td>ham</td>\n",
       "      <td>Go until jurong point, crazy.. Available only ...</td>\n",
       "    </tr>\n",
       "    <tr>\n",
       "      <th>1</th>\n",
       "      <td>ham</td>\n",
       "      <td>Ok lar... Joking wif u oni...</td>\n",
       "    </tr>\n",
       "    <tr>\n",
       "      <th>2</th>\n",
       "      <td>spam</td>\n",
       "      <td>Free entry in 2 a wkly comp to win FA Cup fina...</td>\n",
       "    </tr>\n",
       "    <tr>\n",
       "      <th>3</th>\n",
       "      <td>ham</td>\n",
       "      <td>U dun say so early hor... U c already then say...</td>\n",
       "    </tr>\n",
       "    <tr>\n",
       "      <th>4</th>\n",
       "      <td>ham</td>\n",
       "      <td>Nah I don't think he goes to usf, he lives aro...</td>\n",
       "    </tr>\n",
       "  </tbody>\n",
       "</table>\n",
       "</div>"
      ],
      "text/plain": [
       "  label                                            message\n",
       "0   ham  Go until jurong point, crazy.. Available only ...\n",
       "1   ham                      Ok lar... Joking wif u oni...\n",
       "2  spam  Free entry in 2 a wkly comp to win FA Cup fina...\n",
       "3   ham  U dun say so early hor... U c already then say...\n",
       "4   ham  Nah I don't think he goes to usf, he lives aro..."
      ]
     },
     "execution_count": 41,
     "metadata": {},
     "output_type": "execute_result"
    }
   ],
   "source": [
    "spam_featurizer = FunctionFeaturizer(length, uppercase, exclamation, numbers,warning_words)  # создание своего векторизатора\n",
    "\n",
    "path = 'smsspamcollection/SMSSpamCollection'\n",
    "\n",
    "# Чтение из файла\n",
    "messages = pandas.read_csv(path, sep='\\t', \n",
    "                           names=[\"label\", \"message\"])\n",
    "messages.head()"
   ]
  },
  {
   "cell_type": "code",
   "execution_count": 42,
   "metadata": {
    "collapsed": false
   },
   "outputs": [],
   "source": [
    "messages['length'] = messages['message'].map(lambda text: len(text))"
   ]
  },
  {
   "cell_type": "code",
   "execution_count": 45,
   "metadata": {
    "collapsed": false
   },
   "outputs": [],
   "source": [
    "# Ститастика по словам, которые встречаются в спам-сообщениях\n",
    "from collections import Counter\n",
    "list1 =[]\n",
    "for m in messages.message[messages.label=='spam']:\n",
    "    for word in tokenize(m):\n",
    "        list1.append(word)\n",
    "counts = Counter(list1)"
   ]
  },
  {
   "cell_type": "code",
   "execution_count": 51,
   "metadata": {
    "collapsed": false
   },
   "outputs": [
    {
     "data": {
      "text/plain": [
       "[('.', 924),\n",
       " ('to', 690),\n",
       " ('!', 545),\n",
       " (',', 378),\n",
       " ('a', 377),\n",
       " ('call', 346),\n",
       " ('you', 297),\n",
       " ('your', 263),\n",
       " ('free', 217),\n",
       " ('the', 206),\n",
       " ('for', 203),\n",
       " ('now', 199),\n",
       " ('or', 188),\n",
       " ('&', 178),\n",
       " ('?', 175),\n",
       " ('2', 174),\n",
       " (':', 163),\n",
       " ('is', 158),\n",
       " ('txt', 156),\n",
       " ('on', 145),\n",
       " ('ur', 144),\n",
       " ('u', 141),\n",
       " ('have', 136),\n",
       " ('from', 131),\n",
       " ('mobile', 123),\n",
       " ('and', 122),\n",
       " ('text', 121),\n",
       " ('stop', 118),\n",
       " ('claim', 113),\n",
       " ('with', 109),\n",
       " ('reply', 104),\n",
       " ('4', 95),\n",
       " ('of', 95),\n",
       " ('prize', 92),\n",
       " ('this', 88),\n",
       " ('our', 85),\n",
       " ('get', 84),\n",
       " ('are', 80),\n",
       " ('just', 79),\n",
       " ('only', 79),\n",
       " ('won', 73),\n",
       " ('in', 73),\n",
       " (\"'s\", 72),\n",
       " ('new', 69),\n",
       " ('send', 69),\n",
       " ('t', 68),\n",
       " (')', 66),\n",
       " ('nokia', 65),\n",
       " ('urgent', 63),\n",
       " ('cash', 62)]"
      ]
     },
     "execution_count": 51,
     "metadata": {},
     "output_type": "execute_result"
    }
   ],
   "source": [
    "counts.most_common(50)"
   ]
  },
  {
   "cell_type": "markdown",
   "metadata": {},
   "source": [
    "1(+6). Проверить, сбалансирован ли датасет (может быть, наблюдений одного класса слишком много?). Какие результаты покажет dummy classifier, который будет всем новым наблюдениям присваивать класс ham? Насколько плохо такое решение для задачи определения спама?"
   ]
  },
  {
   "cell_type": "code",
   "execution_count": 18,
   "metadata": {
    "collapsed": false
   },
   "outputs": [
    {
     "data": {
      "text/html": [
       "<div>\n",
       "<table border=\"1\" class=\"dataframe\">\n",
       "  <thead>\n",
       "    <tr style=\"text-align: right;\">\n",
       "      <th></th>\n",
       "      <th></th>\n",
       "      <th>length</th>\n",
       "    </tr>\n",
       "    <tr>\n",
       "      <th>label</th>\n",
       "      <th></th>\n",
       "      <th></th>\n",
       "    </tr>\n",
       "  </thead>\n",
       "  <tbody>\n",
       "    <tr>\n",
       "      <th rowspan=\"8\" valign=\"top\">ham</th>\n",
       "      <th>count</th>\n",
       "      <td>4825.000000</td>\n",
       "    </tr>\n",
       "    <tr>\n",
       "      <th>mean</th>\n",
       "      <td>71.482487</td>\n",
       "    </tr>\n",
       "    <tr>\n",
       "      <th>std</th>\n",
       "      <td>58.440652</td>\n",
       "    </tr>\n",
       "    <tr>\n",
       "      <th>min</th>\n",
       "      <td>2.000000</td>\n",
       "    </tr>\n",
       "    <tr>\n",
       "      <th>25%</th>\n",
       "      <td>33.000000</td>\n",
       "    </tr>\n",
       "    <tr>\n",
       "      <th>50%</th>\n",
       "      <td>52.000000</td>\n",
       "    </tr>\n",
       "    <tr>\n",
       "      <th>75%</th>\n",
       "      <td>93.000000</td>\n",
       "    </tr>\n",
       "    <tr>\n",
       "      <th>max</th>\n",
       "      <td>910.000000</td>\n",
       "    </tr>\n",
       "    <tr>\n",
       "      <th rowspan=\"8\" valign=\"top\">spam</th>\n",
       "      <th>count</th>\n",
       "      <td>747.000000</td>\n",
       "    </tr>\n",
       "    <tr>\n",
       "      <th>mean</th>\n",
       "      <td>138.670683</td>\n",
       "    </tr>\n",
       "    <tr>\n",
       "      <th>std</th>\n",
       "      <td>28.873603</td>\n",
       "    </tr>\n",
       "    <tr>\n",
       "      <th>min</th>\n",
       "      <td>13.000000</td>\n",
       "    </tr>\n",
       "    <tr>\n",
       "      <th>25%</th>\n",
       "      <td>133.000000</td>\n",
       "    </tr>\n",
       "    <tr>\n",
       "      <th>50%</th>\n",
       "      <td>149.000000</td>\n",
       "    </tr>\n",
       "    <tr>\n",
       "      <th>75%</th>\n",
       "      <td>157.000000</td>\n",
       "    </tr>\n",
       "    <tr>\n",
       "      <th>max</th>\n",
       "      <td>223.000000</td>\n",
       "    </tr>\n",
       "  </tbody>\n",
       "</table>\n",
       "</div>"
      ],
      "text/plain": [
       "                  length\n",
       "label                   \n",
       "ham   count  4825.000000\n",
       "      mean     71.482487\n",
       "      std      58.440652\n",
       "      min       2.000000\n",
       "      25%      33.000000\n",
       "      50%      52.000000\n",
       "      75%      93.000000\n",
       "      max     910.000000\n",
       "spam  count   747.000000\n",
       "      mean    138.670683\n",
       "      std      28.873603\n",
       "      min      13.000000\n",
       "      25%     133.000000\n",
       "      50%     149.000000\n",
       "      75%     157.000000\n",
       "      max     223.000000"
      ]
     },
     "execution_count": 18,
     "metadata": {},
     "output_type": "execute_result"
    }
   ],
   "source": [
    "messages.groupby('label').describe()"
   ]
  },
  {
   "cell_type": "markdown",
   "metadata": {},
   "source": [
    "Выборка несбалансированна, неспам - 4825, спам - 747, примеров спама гораздо меньше"
   ]
  },
  {
   "cell_type": "code",
   "execution_count": 19,
   "metadata": {
    "collapsed": false
   },
   "outputs": [],
   "source": [
    "# перевод str в int (ham->0, spam->1)\n",
    "messages['label'] = messages['label'].map({'ham': 0, 'spam': 1}).astype(int)"
   ]
  },
  {
   "cell_type": "code",
   "execution_count": 20,
   "metadata": {
    "collapsed": true
   },
   "outputs": [],
   "source": [
    "#  Поделить выборку в соотновении 80:20\n",
    "msg_train, msg_test, label_train, label_test = train_test_split(messages['message'], messages['label'], test_size=0.2)"
   ]
  },
  {
   "cell_type": "code",
   "execution_count": 26,
   "metadata": {
    "collapsed": true
   },
   "outputs": [],
   "source": [
    "# Векторизация\n",
    "bow = CountVectorizer()\n",
    "bow.fit_transform(msg_train)\n",
    "train_bowed_messages = bow.transform(msg_train)\n",
    "test_bowed_messages = bow.transform(msg_test)"
   ]
  },
  {
   "cell_type": "code",
   "execution_count": 27,
   "metadata": {
    "collapsed": false
   },
   "outputs": [
    {
     "name": "stdout",
     "output_type": "stream",
     "text": [
      "             precision    recall  f1-score   support\n",
      "\n",
      "          0       0.85      1.00      0.92       947\n",
      "          1       0.00      0.00      0.00       168\n",
      "\n",
      "avg / total       0.72      0.85      0.78      1115\n",
      "\n"
     ]
    },
    {
     "name": "stderr",
     "output_type": "stream",
     "text": [
      "/usr/local/lib/python3.5/site-packages/sklearn/metrics/classification.py:1113: UndefinedMetricWarning: Precision and F-score are ill-defined and being set to 0.0 in labels with no predicted samples.\n",
      "  'precision', 'predicted', average, warn_for)\n"
     ]
    }
   ],
   "source": [
    "# Обучение DummyClassifier\n",
    "clf = DummyClassifier(strategy='most_frequent', random_state=0)\n",
    "clf = clf.fit(train_bowed_messages, label_train)\n",
    "\n",
    "# Вывод результатов по Dummy Classifier\n",
    "print(classification_report(label_test, clf.predict(test_bowed_messages)))"
   ]
  },
  {
   "cell_type": "markdown",
   "metadata": {},
   "source": [
    "Dummy classifier, который будет всем новым наблюдениям присваивать класс ham, получит 75% precission и 87 -  recall, 80 - f-score. Precision и recall у спамовых сообщений - 0, Dummy Classifier плохо справляется с задачей определения спамовых сообщений"
   ]
  },
  {
   "cell_type": "code",
   "execution_count": 30,
   "metadata": {
    "collapsed": false
   },
   "outputs": [
    {
     "name": "stdout",
     "output_type": "stream",
     "text": [
      "\n",
      "Naive Bayes 1\n",
      "0.9721998947 0.0157637103722\n",
      "             precision    recall  f1-score   support\n",
      "\n",
      "          0       0.99      1.00      0.99       947\n",
      "          1       0.99      0.93      0.96       168\n",
      "\n",
      "avg / total       0.99      0.99      0.99      1115\n",
      "\n"
     ]
    }
   ],
   "source": [
    "print('\\nNaive Bayes 1')\n",
    "naive_model = MultinomialNB()\n",
    "naive_model.fit(train_bowed_messages, label_train)\n",
    "\n",
    "cv_results = cross_val_score(naive_model, test_bowed_messages, label_test, cv=10, scoring='accuracy')\n",
    "print(cv_results.mean(), cv_results.std())\n",
    "print(classification_report(label_test, naive_model.predict(test_bowed_messages)))"
   ]
  },
  {
   "cell_type": "code",
   "execution_count": 31,
   "metadata": {
    "collapsed": false,
    "scrolled": true
   },
   "outputs": [
    {
     "name": "stdout",
     "output_type": "stream",
     "text": [
      "Naive Bayes,  tokenize 1\n",
      "\n",
      "Model train\n",
      "0.984965465541 0.00585837770827\n",
      "[0 0 0 ..., 0 0 0]\n",
      "             precision    recall  f1-score   support\n",
      "\n",
      "          0       0.99      0.99      0.99       947\n",
      "          1       0.97      0.92      0.94       168\n",
      "\n",
      "avg / total       0.98      0.98      0.98      1115\n",
      "\n",
      "Draw learning curve\n"
     ]
    },
    {
     "name": "stderr",
     "output_type": "stream",
     "text": [
      "/usr/local/lib/python3.5/site-packages/sklearn/naive_bayes.py:455: RuntimeWarning: divide by zero encountered in log\n",
      "  self.class_log_prior_ = (np.log(self.class_count_) -\n",
      "/usr/local/lib/python3.5/site-packages/sklearn/naive_bayes.py:455: RuntimeWarning: divide by zero encountered in log\n",
      "  self.class_log_prior_ = (np.log(self.class_count_) -\n",
      "/usr/local/lib/python3.5/site-packages/sklearn/naive_bayes.py:455: RuntimeWarning: divide by zero encountered in log\n",
      "  self.class_log_prior_ = (np.log(self.class_count_) -\n"
     ]
    },
    {
     "data": {
      "image/png": "[encoded data removed]",
      "text/plain": [
       "<matplotlib.figure.Figure at 0x1133987b8>"
      ]
     },
     "metadata": {},
     "output_type": "display_data"
    },
    {
     "name": "stdout",
     "output_type": "stream",
     "text": [
      "Draw roc curve\n"
     ]
    },
    {
     "data": {
      "image/png": "[encoded data removed]",
      "text/plain": [
       "<matplotlib.figure.Figure at 0x1126c8d68>"
      ]
     },
     "metadata": {},
     "output_type": "display_data"
    }
   ],
   "source": [
    "# Первая токенизация, Байес\n",
    "print('Naive Bayes,  tokenize 1')\n",
    "pipeline, label_predicted = train_model_show_results(steps=[\n",
    "        ('bow', CountVectorizer(analyzer=tokenize)),\n",
    "        ('classifier', MultinomialNB())\n",
    "    ])\n",
    "\n",
    "draw_learning_curve(pipeline)\n",
    "draw_roc_curve(label_predicted)"
   ]
  },
  {
   "cell_type": "markdown",
   "metadata": {},
   "source": [
    "Судя по roc-curve, классификатор показывает высокие результаты, AUC-value очень высокий, roc-curve почти параллельна оси х. Learning curve показывает, что при увеличении обучающих данных, cross-validation score может незначительно улучшиться, training score при этом немного ухудшится."
   ]
  },
  {
   "cell_type": "code",
   "execution_count": 32,
   "metadata": {
    "collapsed": false
   },
   "outputs": [
    {
     "name": "stdout",
     "output_type": "stream",
     "text": [
      "Naive Bayes tokenize 2\n",
      "\n",
      "Model train\n",
      "0.989228582893 0.00519702055836\n",
      "[0 0 0 ..., 0 0 0]\n",
      "             precision    recall  f1-score   support\n",
      "\n",
      "          0       0.99      1.00      0.99       947\n",
      "          1       0.99      0.95      0.97       168\n",
      "\n",
      "avg / total       0.99      0.99      0.99      1115\n",
      "\n"
     ]
    }
   ],
   "source": [
    "# Вторая токенизация, Байес\n",
    "print('Naive Bayes tokenize 2')\n",
    "pipeline, label_predicted = train_model_show_results(steps=[\n",
    "        ('bow', CountVectorizer(analyzer=tokenize2)),\n",
    "        ('classifier', MultinomialNB())\n",
    "    ])"
   ]
  },
  {
   "cell_type": "markdown",
   "metadata": {},
   "source": [
    "Значения точности и полноты при определении спама очень высокие, если классификатор показал спам, то мы с 98% точностью можем быть уверены, чио это спам. При этом полнота определния спама - 91%, это значит, что классификатор отловил 91% спамовых сообщений."
   ]
  },
  {
   "cell_type": "code",
   "execution_count": 33,
   "metadata": {
    "collapsed": false
   },
   "outputs": [
    {
     "name": "stdout",
     "output_type": "stream",
     "text": [
      "Naive Bayes удаляем стоп слова\n",
      "\n",
      "Model train\n",
      "0.984965465541 0.00585837770827\n",
      "[0 0 0 ..., 0 0 0]\n",
      "             precision    recall  f1-score   support\n",
      "\n",
      "          0       0.99      0.99      0.99       947\n",
      "          1       0.97      0.92      0.94       168\n",
      "\n",
      "avg / total       0.98      0.98      0.98      1115\n",
      "\n"
     ]
    }
   ],
   "source": [
    "# Первая токенизация, Байес, удаляем стоп слова\n",
    "print('Naive Bayes удаляем стоп слова')\n",
    "pipeline, label_predicted = train_model_show_results(steps=[\n",
    "        ('bow', CountVectorizer(analyzer=tokenize, stop_words=stop_words)),\n",
    "        ('classifier', MultinomialNB())\n",
    "    ])\n"
   ]
  },
  {
   "cell_type": "markdown",
   "metadata": {},
   "source": [
    "Значения точности и полноты при определении спама очень высокие, если классификатор показал спам, то мы с 98% точностью можем быть уверены, чио это спам. При этом полнота определния спама - 87%, это значит, что классификатор отловил 87% спамовых сообщений."
   ]
  },
  {
   "cell_type": "code",
   "execution_count": 34,
   "metadata": {
    "collapsed": false
   },
   "outputs": [
    {
     "name": "stdout",
     "output_type": "stream",
     "text": [
      "Векторизация tf-idf\n",
      "\n",
      "Model train\n",
      "0.958491924937 0.00652243107525\n",
      "[0 0 0 ..., 0 0 0]\n",
      "             precision    recall  f1-score   support\n",
      "\n",
      "          0       0.95      1.00      0.97       947\n",
      "          1       1.00      0.71      0.83       168\n",
      "\n",
      "avg / total       0.96      0.96      0.95      1115\n",
      "\n"
     ]
    }
   ],
   "source": [
    "# Байес, векторизация tf-idf\n",
    "print('Векторизация tf-idf')\n",
    "pipeline, label_predicted = train_model_show_results(steps=[\n",
    "        ('vect', CountVectorizer()),\n",
    "        ('tfidf', TfidfTransformer()),\n",
    "        ('classifier', MultinomialNB())\n",
    "    ])\n"
   ]
  },
  {
   "cell_type": "markdown",
   "metadata": {},
   "source": [
    "Значения точности и полноты при определении спама очень высокие, если классификатор показал спам, то это 100% спам. При этом полнота определния спама не очень высокая - 70%, это значит, что классификатор отловил спам только в 70% случаях."
   ]
  },
  {
   "cell_type": "code",
   "execution_count": 35,
   "metadata": {
    "collapsed": false
   },
   "outputs": [
    {
     "name": "stdout",
     "output_type": "stream",
     "text": [
      "Векторизация tf-idf, fit_prior=False\n",
      "\n",
      "Model train\n",
      "0.978234468912 0.00402936776817\n",
      "[0 0 0 ..., 0 0 0]\n",
      "             precision    recall  f1-score   support\n",
      "\n",
      "          0       0.99      0.99      0.99       947\n",
      "          1       0.96      0.92      0.94       168\n",
      "\n",
      "avg / total       0.98      0.98      0.98      1115\n",
      "\n"
     ]
    }
   ],
   "source": [
    "# Байес, векторизация tf-idf, fit_prior=False\n",
    "print('Векторизация tf-idf, fit_prior=False')\n",
    "pipeline, label_predicted = train_model_show_results(steps=[\n",
    "        ('vect', CountVectorizer()),\n",
    "        ('tfidf', TfidfTransformer()),\n",
    "        ('classifier', MultinomialNB(fit_prior=False))\n",
    "    ])\n"
   ]
  },
  {
   "cell_type": "code",
   "execution_count": 36,
   "metadata": {
    "collapsed": false
   },
   "outputs": [
    {
     "name": "stdout",
     "output_type": "stream",
     "text": [
      "Decission Tree\n",
      "\n",
      "Model train\n",
      "0.961405706356 0.0130785190293\n",
      "[0 0 0 ..., 0 0 0]\n",
      "             precision    recall  f1-score   support\n",
      "\n",
      "          0       0.98      0.99      0.98       947\n",
      "          1       0.92      0.86      0.89       168\n",
      "\n",
      "avg / total       0.97      0.97      0.97      1115\n",
      "\n",
      "Draw learning curve\n"
     ]
    },
    {
     "data": {
      "image/png": "[encoded data removed]",
      "text/plain": [
       "<matplotlib.figure.Figure at 0x1135ce908>"
      ]
     },
     "metadata": {},
     "output_type": "display_data"
    },
    {
     "name": "stdout",
     "output_type": "stream",
     "text": [
      "Draw roc curve\n"
     ]
    },
    {
     "data": {
      "image/png": "[encoded data removed]",
      "text/plain": [
       "<matplotlib.figure.Figure at 0x113111e80>"
      ]
     },
     "metadata": {},
     "output_type": "display_data"
    }
   ],
   "source": [
    "# Дерево принятий решений, tf-idf\n",
    "print('Decission Tree')\n",
    "pipeline, label_predicted = train_model_show_results(steps=[\n",
    "        ('vect', CountVectorizer()),\n",
    "        ('tfidf', TfidfTransformer()),\n",
    "        ('classifier', DecisionTreeClassifier())\n",
    "    ])\n",
    "\n",
    "draw_learning_curve(pipeline)\n",
    "draw_roc_curve(label_predicted)"
   ]
  },
  {
   "cell_type": "markdown",
   "metadata": {},
   "source": [
    "Learning curve показывает, что при увеличении обучающих данных, cross-validation score может незначительно улучшиться, training score при этом останется статичен.\n",
    "Судя по roc-curve, классификатор показывает высокие результаты, но у наивного байесы было лучше (надо смотреть на наклон синей прямой). AUC-value хуже, чем у Байеса, лучше, чем у случайного леса."
   ]
  },
  {
   "cell_type": "code",
   "execution_count": 37,
   "metadata": {
    "collapsed": false
   },
   "outputs": [
    {
     "name": "stdout",
     "output_type": "stream",
     "text": [
      "RandomForestClassifier\n",
      "\n",
      "Model train\n",
      "0.969934467142 0.00611808940788\n",
      "[0 0 0 ..., 0 0 0]\n",
      "             precision    recall  f1-score   support\n",
      "\n",
      "          0       0.96      1.00      0.98       947\n",
      "          1       1.00      0.77      0.87       168\n",
      "\n",
      "avg / total       0.97      0.97      0.96      1115\n",
      "\n",
      "Draw learning curve\n"
     ]
    },
    {
     "data": {
      "image/png": "[encoded data removed]",
      "text/plain": [
       "<matplotlib.figure.Figure at 0x113760240>"
      ]
     },
     "metadata": {},
     "output_type": "display_data"
    },
    {
     "name": "stdout",
     "output_type": "stream",
     "text": [
      "Draw roc curve\n"
     ]
    },
    {
     "data": {
      "image/png": "[encoded data removed]",
      "text/plain": [
       "<matplotlib.figure.Figure at 0x11254aba8>"
      ]
     },
     "metadata": {},
     "output_type": "display_data"
    }
   ],
   "source": [
    "# Случайный лес, tf-idf\n",
    "print('RandomForestClassifier')\n",
    "pipeline, label_predicted = train_model_show_results(steps=[\n",
    "        ('vect', CountVectorizer()),\n",
    "        ('tfidf', TfidfTransformer()),\n",
    "        ('classifier', RandomForestClassifier())\n",
    "    ])\n",
    "\n",
    "draw_learning_curve(pipeline)\n",
    "draw_roc_curve(label_predicted)\n"
   ]
  },
  {
   "cell_type": "markdown",
   "metadata": {},
   "source": [
    "Learning curve показывает, что при увеличение обучающих данных практически ничего не даст.\n",
    "AUC-value равен достаточно высокий, но хуже, чем у наивного байеса и случайного леса"
   ]
  },
  {
   "cell_type": "code",
   "execution_count": 38,
   "metadata": {
    "collapsed": false
   },
   "outputs": [
    {
     "name": "stdout",
     "output_type": "stream",
     "text": [
      "Custom Transformer\n",
      "\n",
      "Model train\n",
      "0.950634795374 0.00883123498\n",
      "[0 0 0 ..., 0 0 0]\n",
      "             precision    recall  f1-score   support\n",
      "\n",
      "          0       0.98      0.95      0.97       947\n",
      "          1       0.77      0.89      0.82       168\n",
      "\n",
      "avg / total       0.95      0.94      0.94      1115\n",
      "\n",
      "Draw learning curve\n"
     ]
    },
    {
     "name": "stderr",
     "output_type": "stream",
     "text": [
      "/usr/local/lib/python3.5/site-packages/sklearn/naive_bayes.py:455: RuntimeWarning: divide by zero encountered in log\n",
      "  self.class_log_prior_ = (np.log(self.class_count_) -\n",
      "/usr/local/lib/python3.5/site-packages/sklearn/naive_bayes.py:455: RuntimeWarning: divide by zero encountered in log\n",
      "  self.class_log_prior_ = (np.log(self.class_count_) -\n",
      "/usr/local/lib/python3.5/site-packages/sklearn/naive_bayes.py:455: RuntimeWarning: divide by zero encountered in log\n",
      "  self.class_log_prior_ = (np.log(self.class_count_) -\n"
     ]
    },
    {
     "data": {
      "image/png": "[encoded data removed]",
      "text/plain": [
       "<matplotlib.figure.Figure at 0x1126e62b0>"
      ]
     },
     "metadata": {},
     "output_type": "display_data"
    },
    {
     "name": "stdout",
     "output_type": "stream",
     "text": [
      "Draw roc curve\n"
     ]
    },
    {
     "data": {
      "image/png": "[encoded data removed]",
      "text/plain": [
       "<matplotlib.figure.Figure at 0x10badd198>"
      ]
     },
     "metadata": {},
     "output_type": "display_data"
    }
   ],
   "source": [
    "# Свой векторизатор\n",
    "print('Custom Transformer')\n",
    "pipeline, label_predicted = train_model_show_results(steps=[\n",
    "        ('custom', spam_featurizer),\n",
    "        ('classifier', MultinomialNB())\n",
    "    ])\n",
    "\n",
    "draw_learning_curve(pipeline)\n",
    "draw_roc_curve(label_predicted)\n"
   ]
  },
  {
   "cell_type": "markdown",
   "metadata": {},
   "source": [
    "Все вышеописанные классификаторы дают достаточно высокие результаты. fit_prior=False результаты не улучшает.\n",
    "У Random forest самый высокий Precision у 1. \n",
    "Наивный Байес дал лучшие результаты, чем случайный лес и дерево решений"
   ]
  },
  {
   "cell_type": "code",
   "execution_count": null,
   "metadata": {
    "collapsed": true
   },
   "outputs": [],
   "source": []
  },
  {
   "cell_type": "code",
   "execution_count": null,
   "metadata": {
    "collapsed": true
   },
   "outputs": [],
   "source": []
  },
  {
   "cell_type": "code",
   "execution_count": null,
   "metadata": {
    "collapsed": true
   },
   "outputs": [],
   "source": []
  },
  {
   "cell_type": "code",
   "execution_count": null,
   "metadata": {
    "collapsed": true
   },
   "outputs": [],
   "source": []
  },
  {
   "cell_type": "code",
   "execution_count": null,
   "metadata": {
    "collapsed": true
   },
   "outputs": [],
   "source": []
  },
  {
   "cell_type": "code",
   "execution_count": null,
   "metadata": {
    "collapsed": true
   },
   "outputs": [],
   "source": []
  },
  {
   "cell_type": "code",
   "execution_count": null,
   "metadata": {
    "collapsed": true
   },
   "outputs": [],
   "source": []
  }
 ],
 "metadata": {
  "kernelspec": {
   "display_name": "Python 3",
   "language": "python",
   "name": "python3"
  },
  "language_info": {
   "codemirror_mode": {
    "name": "ipython",
    "version": 3
   },
   "file_extension": ".py",
   "mimetype": "text/x-python",
   "name": "python",
   "nbconvert_exporter": "python",
   "pygments_lexer": "ipython3",
   "version": "3.5.2"
  }
 },
 "nbformat": 4,
 "nbformat_minor": 1
}
